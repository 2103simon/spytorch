{
 "cells": [
  {
   "cell_type": "markdown",
   "metadata": {},
   "source": [
    "# Tutorial 5: Training a spiking neural network on simulated touch sensor data of Braille letters\n",
    "\n",
    "Friedemann Zenke (https://fzenke.net)"
   ]
  },
  {
   "cell_type": "markdown",
   "metadata": {},
   "source": [
    "For more details on surrogate gradient learning, please see: \n",
    "\n",
    "> Neftci, E.O., Mostafa, H., and Zenke, F. (2019). Surrogate Gradient Learning in Spiking Neural Networks: Bringing the Power of Gradient-based optimization to spiking neural networks. IEEE Signal Process Mag 36, 51–63.\n",
    "> https://ieeexplore.ieee.org/document/8891809 and https://arxiv.org/abs/1901.09948"
   ]
  },
  {
   "cell_type": "code",
   "execution_count": 1,
   "metadata": {},
   "outputs": [],
   "source": [
    "import os, pickle, gzip\n",
    "\n",
    "import numpy as np\n",
    "import matplotlib.pyplot as plt\n",
    "from matplotlib.gridspec import GridSpec\n",
    "import seaborn as sns\n",
    "\n",
    "import torch\n",
    "import torch.nn as nn\n",
    "from torch.utils.data import TensorDataset, DataLoader"
   ]
  },
  {
   "cell_type": "code",
   "execution_count": 2,
   "metadata": {},
   "outputs": [
    {
     "data": {
      "text/plain": [
       "<torch._C.Generator at 0x7f01f82c93d8>"
      ]
     },
     "execution_count": 2,
     "metadata": {},
     "output_type": "execute_result"
    }
   ],
   "source": [
    "dtype = torch.float\n",
    "\n",
    "# Check whether a GPU is available\n",
    "if torch.cuda.is_available():\n",
    "    device = torch.device(\"cuda\")     \n",
    "else:\n",
    "    device = torch.device(\"cpu\")\n",
    "\n",
    "# Seed random number generators to ensure reproducibility\n",
    "seed=42\n",
    "np.random.seed(seed)\n",
    "torch.manual_seed(seed)"
   ]
  },
  {
   "cell_type": "code",
   "execution_count": 3,
   "metadata": {},
   "outputs": [],
   "source": [
    "# data structure: [trial number] x ['key'] x [time] x [sensor_nr]\n",
    "\n",
    "file_name = 'data/tutorial5_braille_spiking_data.pkl.gz'\n",
    "with gzip.open(file_name, 'rb') as infile:\n",
    "    data_dict = pickle.load(infile)\n",
    "\n",
    "letter_written = ['Space', 'A', 'B', 'C', 'D', 'E', 'F', 'G', 'H', 'I', 'J', 'K',\n",
    "                  'L', 'M', 'N', 'O', 'P', 'Q', 'R', 'S', 'T', 'U', 'V', 'W', 'X', 'Y', 'Z']\n",
    "\n",
    "# Extract data\n",
    "nb_repetitions=50\n",
    "data = []\n",
    "labels = []\n",
    "for i, letter in enumerate(letter_written):\n",
    "    for repetition in np.arange(nb_repetitions):\n",
    "        idx = i*nb_repetitions+repetition\n",
    "        dat = 1.0-data_dict[idx]['taxel_data'][:]/255\n",
    "        data.append(dat)\n",
    "        labels.append(i)\n",
    "        \n",
    "# Crop to same length\n",
    "data_steps = l = np.min([ len(d) for d in data ])\n",
    "data = torch.tensor( [ d[:l] for d in data ], dtype=dtype )    \n",
    "labels = torch.tensor(labels,dtype=torch.long)\n",
    "\n",
    "# Select nonzero inputs\n",
    "nzid = [1,2,6,10]\n",
    "data = data[:,:,nzid]\n",
    "\n",
    "# Standardize data\n",
    "rshp = data.reshape((-1,data.shape[2]))\n",
    "data = (data-rshp.mean(0))/(rshp.std(0)+1e-3)\n",
    "\n",
    "# Upsample\n",
    "def upsample(data, n=2):\n",
    "    shp=data.shape\n",
    "    tmp=data.reshape(shp+(1,))\n",
    "    tmp=data.tile((1,1,1,n))\n",
    "    return tmp.reshape((shp[0],n*shp[1],shp[2]))\n",
    "\n",
    "nb_upsample = 2\n",
    "data = upsample(data,n=nb_upsample)\n",
    "    \n",
    "# Shuffle data\n",
    "idx = np.arange(len(data))\n",
    "np.random.shuffle(idx)\n",
    "data = data[idx]\n",
    "labels = labels[idx]\n",
    "\n",
    "# Peform train/test split\n",
    "a = int(0.8*len(idx))\n",
    "x_train, x_test = data[:a], data[a:]\n",
    "y_train, y_test = labels[:a], labels[a:]\n",
    "\n",
    "ds_train = TensorDataset(x_train,y_train)\n",
    "ds_test = TensorDataset(x_test,y_test)"
   ]
  },
  {
   "cell_type": "code",
   "execution_count": 4,
   "metadata": {},
   "outputs": [
    {
     "data": {
      "text/plain": [
       "array([ 0,  1,  2,  3,  4,  5,  6,  7,  8,  9, 10, 11, 12, 13, 14, 15, 16,\n",
       "       17, 18, 19, 20, 21, 22, 23, 24, 25, 26])"
      ]
     },
     "execution_count": 4,
     "metadata": {},
     "output_type": "execute_result"
    }
   ],
   "source": [
    "np.unique(labels)"
   ]
  },
  {
   "cell_type": "code",
   "execution_count": 5,
   "metadata": {},
   "outputs": [
    {
     "data": {
      "image/png": "[encoded data removed]",
      "text/plain": [
       "<Figure size 432x288 with 1 Axes>"
      ]
     },
     "metadata": {
      "needs_background": "light"
     },
     "output_type": "display_data"
    }
   ],
   "source": [
    "# Visualize single data point\n",
    "i = 123\n",
    "plt.plot(data[i])\n",
    "plt.title(\"Letter %s\"%letter_written[labels[i]])\n",
    "sns.despine()"
   ]
  },
  {
   "cell_type": "markdown",
   "metadata": {},
   "source": [
    "### Setup of the spiking network model"
   ]
  },
  {
   "cell_type": "code",
   "execution_count": 6,
   "metadata": {},
   "outputs": [
    {
     "name": "stdout",
     "output_type": "stream",
     "text": [
      "Number of training data 1080\n",
      "Number of testing data 270\n",
      "Number of outputs 28\n",
      "Number of timesteps 152\n"
     ]
    }
   ],
   "source": [
    "nb_channels = len(nzid)\n",
    "enc_fan_out = 32  # Num of spiking neurons used to encode each channel\n",
    "\n",
    "# Network parameters\n",
    "nb_inputs  = nb_channels*enc_fan_out\n",
    "nb_hidden  = 200\n",
    "nb_outputs = len(np.unique(labels))+1\n",
    "time_step = 2e-3/nb_upsample # TODO needs to be updated to reflect the correct time scale\n",
    "nb_steps = nb_upsample*data_steps  # TODO We should change this and upsample the input data\n",
    "\n",
    "batch_size = 100\n",
    "\n",
    "print(\"Number of training data %i\"%len(ds_train))\n",
    "print(\"Number of testing data %i\"%len(ds_test))\n",
    "print(\"Number of outputs %i\"%nb_outputs)\n",
    "print(\"Number of timesteps %i\"%nb_steps)"
   ]
  },
  {
   "cell_type": "code",
   "execution_count": 7,
   "metadata": {},
   "outputs": [],
   "source": [
    "tau_mem = 20e-3\n",
    "tau_syn = 10e-3\n",
    "\n",
    "alpha   = float(np.exp(-time_step/tau_syn))\n",
    "beta    = float(np.exp(-time_step/tau_mem))"
   ]
  },
  {
   "cell_type": "code",
   "execution_count": 8,
   "metadata": {},
   "outputs": [
    {
     "name": "stdout",
     "output_type": "stream",
     "text": [
      "init done\n"
     ]
    }
   ],
   "source": [
    "encoder_weight_scale = 1.0\n",
    "fwd_weight_scale = 3.0\n",
    "rec_weight_scale = 1e-2*fwd_weight_scale\n",
    "\n",
    "# Parameters\n",
    "\n",
    "# Encoder \n",
    "enc_gain = torch.empty((nb_inputs,),  device=device, dtype=dtype, requires_grad=True)\n",
    "enc_bias = torch.empty((nb_inputs,),  device=device, dtype=dtype, requires_grad=True)\n",
    "torch.nn.init.normal_(enc_gain, mean=0.0, std=encoder_weight_scale) # TODO update this parameter\n",
    "torch.nn.init.normal_(enc_bias, mean=0.0, std=1.0)\n",
    "\n",
    "# Spiking network\n",
    "w1 = torch.empty((nb_inputs, nb_hidden),  device=device, dtype=dtype, requires_grad=True)\n",
    "torch.nn.init.normal_(w1, mean=0.0, std=fwd_weight_scale/np.sqrt(nb_inputs))\n",
    "\n",
    "w2 = torch.empty((nb_hidden, nb_outputs), device=device, dtype=dtype, requires_grad=True)\n",
    "torch.nn.init.normal_(w2, mean=0.0, std=fwd_weight_scale/np.sqrt(nb_hidden))\n",
    "\n",
    "v1 = torch.empty((nb_hidden, nb_hidden), device=device, dtype=dtype, requires_grad=True)\n",
    "torch.nn.init.normal_(v1, mean=0.0, std=rec_weight_scale/np.sqrt(nb_hidden))\n",
    "\n",
    "print(\"init done\")"
   ]
  },
  {
   "cell_type": "code",
   "execution_count": 9,
   "metadata": {},
   "outputs": [],
   "source": [
    "def plot_voltage_traces(mem, spk=None, dim=(3,5), spike_height=5, **kwargs):\n",
    "    gs=GridSpec(*dim)\n",
    "    if spk is not None:\n",
    "        dat = 1.0*mem\n",
    "        dat[spk>0.0] = spike_height\n",
    "        dat = dat.detach().cpu().numpy()\n",
    "    else:\n",
    "        dat = mem.detach().cpu().numpy()\n",
    "    for i in range(np.prod(dim)):\n",
    "        if i==0: a0=ax=plt.subplot(gs[i])\n",
    "        else: ax=plt.subplot(gs[i],sharey=a0)\n",
    "        ax.plot(dat[i], **kwargs)\n",
    "        ax.axis(\"off\")"
   ]
  },
  {
   "cell_type": "code",
   "execution_count": 10,
   "metadata": {},
   "outputs": [],
   "source": [
    "from IPython.display import clear_output\n",
    "\n",
    "def live_plot(loss):\n",
    "    if len(loss) == 1:\n",
    "        return\n",
    "    clear_output(wait=True)\n",
    "    ax = plt.figure(figsize=(3,2), dpi=150).gca()\n",
    "    ax.plot(range(1, len(loss) + 1), loss)\n",
    "    ax.set_xlabel(\"Epoch\")\n",
    "    ax.set_ylabel(\"Loss\")\n",
    "    ax.xaxis.get_major_locator().set_params(integer=True)\n",
    "    sns.despine()\n",
    "    plt.show()"
   ]
  },
  {
   "cell_type": "markdown",
   "metadata": {},
   "source": [
    "## Training the network"
   ]
  },
  {
   "cell_type": "code",
   "execution_count": 11,
   "metadata": {},
   "outputs": [],
   "source": [
    "class SurrGradSpike(torch.autograd.Function):\n",
    "    \"\"\"\n",
    "    Here we implement our spiking nonlinearity which also implements \n",
    "    the surrogate gradient. By subclassing torch.autograd.Function, \n",
    "    we will be able to use all of PyTorch's autograd functionality.\n",
    "    Here we use the normalized negative part of a fast sigmoid \n",
    "    as this was done in Zenke & Ganguli (2018).\n",
    "    \"\"\"\n",
    "    \n",
    "    scale = 20.0 # controls steepness of surrogate gradient\n",
    "\n",
    "    @staticmethod\n",
    "    def forward(ctx, input):\n",
    "        \"\"\"\n",
    "        In the forward pass we compute a step function of the input Tensor\n",
    "        and return it. ctx is a context object that we use to stash information which \n",
    "        we need to later backpropagate our error signals. To achieve this we use the \n",
    "        ctx.save_for_backward method.\n",
    "        \"\"\"\n",
    "        ctx.save_for_backward(input)\n",
    "        out = torch.zeros_like(input)\n",
    "        out[input > 0] = 1.0\n",
    "        return out\n",
    "\n",
    "    @staticmethod\n",
    "    def backward(ctx, grad_output):\n",
    "        \"\"\"\n",
    "        In the backward pass we receive a Tensor we need to compute the \n",
    "        surrogate gradient of the loss with respect to the input. \n",
    "        Here we use the normalized negative part of a fast sigmoid \n",
    "        as this was done in Zenke & Ganguli (2018).\n",
    "        \"\"\"\n",
    "        input, = ctx.saved_tensors\n",
    "        grad_input = grad_output.clone()\n",
    "        grad = grad_input/(SurrGradSpike.scale*torch.abs(input)+1.0)**2\n",
    "        return grad\n",
    "    \n",
    "# here we overwrite our naive spike function by the \"SurrGradSpike\" nonlinearity which implements a surrogate gradient\n",
    "spike_fn  = SurrGradSpike.apply"
   ]
  },
  {
   "cell_type": "code",
   "execution_count": 12,
   "metadata": {},
   "outputs": [],
   "source": [
    "def run_snn(inputs):\n",
    "    bs = inputs.shape[0]\n",
    "    enc = torch.zeros((bs,nb_inputs), device=device, dtype=dtype)\n",
    "    input_spk = torch.zeros((bs,nb_inputs), device=device, dtype=dtype)\n",
    "    syn = torch.zeros((bs,nb_hidden), device=device, dtype=dtype)\n",
    "    mem = -1e-3*torch.ones((bs,nb_hidden), device=device, dtype=dtype)\n",
    "    out = torch.zeros((bs,nb_hidden), device=device, dtype=dtype)\n",
    "    \n",
    "    enc_rec = []\n",
    "    mem_rec = []\n",
    "    spk_rec = [] \n",
    "    \n",
    "    # encoder_currents = torch.einsum(\"abc,c->ab\", (inputs.tile((enc_fan_out,)), enc_gain))+enc_bias\n",
    "    encoder_currents = enc_gain*(inputs.tile((enc_fan_out,))+enc_bias)\n",
    "    for t in range(nb_steps):\n",
    "        # Compute encoder activity\n",
    "        new_enc = (beta*enc +(1.0-beta)*encoder_currents[:,t])*(1.0-input_spk.detach())\n",
    "        input_spk = spike_fn(enc-1.0)\n",
    "        \n",
    "        # Compute hidden layer activity\n",
    "        h1 = input_spk.mm(w1) + torch.einsum(\"ab,bc->ac\", (out, v1))\n",
    "        mthr = mem-1.0\n",
    "        out = spike_fn(mthr)\n",
    "        rst = out.detach() # We do not want to backprop through the reset\n",
    "\n",
    "        new_syn = alpha*syn +h1\n",
    "        new_mem =(beta*mem +(1.0-beta)*syn)*(1.0-rst)\n",
    "\n",
    "        # Here we store some state variables so we can look at them later.\n",
    "        mem_rec.append(mem.detach())\n",
    "        spk_rec.append(out.detach())\n",
    "        enc_rec.append(enc.detach())\n",
    "        \n",
    "        enc = new_enc\n",
    "        mem = new_mem\n",
    "        syn = new_syn\n",
    "\n",
    "    enc_rec = torch.stack(enc_rec,dim=1)  \n",
    "    mem_rec = torch.stack(mem_rec,dim=1)\n",
    "    spk_rec = torch.stack(spk_rec,dim=1)\n",
    "\n",
    "    # Readout layer\n",
    "    h2= torch.einsum(\"abc,cd->abd\", (spk_rec, w2))\n",
    "    flt = torch.zeros((bs,nb_outputs), device=device, dtype=dtype)\n",
    "    out = torch.zeros((bs,nb_outputs), device=device, dtype=dtype)\n",
    "    out_rec = [out]\n",
    "    for t in range(nb_steps):\n",
    "        new_flt = alpha*flt +h2[:,t]\n",
    "        new_out = beta*out +(1.0-beta)*flt\n",
    "\n",
    "        flt = new_flt\n",
    "        out = new_out\n",
    "\n",
    "        out_rec.append(out)\n",
    "\n",
    "    out_rec = torch.stack(out_rec,dim=1)\n",
    "    other_recs = [enc_rec, mem_rec, spk_rec]\n",
    "    return out_rec, other_recs"
   ]
  },
  {
   "cell_type": "code",
   "execution_count": 13,
   "metadata": {},
   "outputs": [],
   "source": [
    "def train(dataset, lr=1e-3, nb_epochs=10):\n",
    "    \n",
    "    params = [enc_gain, enc_bias, w1,w2,v1]\n",
    "    optimizer = torch.optim.Adamax(params, lr=lr, betas=(0.9,0.995))\n",
    "\n",
    "    log_softmax_fn = nn.LogSoftmax(dim=1)\n",
    "    loss_fn = nn.NLLLoss()\n",
    "    \n",
    "    generator = DataLoader(dataset, batch_size=batch_size, shuffle=True, num_workers=2)\n",
    "    \n",
    "    loss_hist = []\n",
    "    for e in range(nb_epochs):\n",
    "        local_loss = []\n",
    "        for x_local, y_local in generator:\n",
    "            x_local, y_local = x_local.to(device), y_local.to(device)\n",
    "            output,recs = run_snn(x_local)\n",
    "            _,_,spks=recs\n",
    "            m,_=torch.max(output,1)\n",
    "            log_p_y = log_softmax_fn(m)\n",
    "            \n",
    "            # Here we can set up our regularizer loss\n",
    "            reg_loss = 1e-3*torch.mean(torch.sum(spks,1)) # e.g., L1 loss on total number of spikes\n",
    "            # reg_loss = 0.0\n",
    "            \n",
    "            # Here we combine supervised loss and the regularizer\n",
    "            loss_val = loss_fn(log_p_y, y_local) + reg_loss\n",
    "\n",
    "            optimizer.zero_grad()\n",
    "            loss_val.backward()\n",
    "            optimizer.step()\n",
    "            local_loss.append(loss_val.item())\n",
    "        \n",
    "        mean_loss = np.mean(local_loss)\n",
    "        loss_hist.append(mean_loss)\n",
    "        live_plot(loss_hist)\n",
    "        print(\"Epoch %i: loss=%.5f\"%(e+1,mean_loss))\n",
    "        \n",
    "    return loss_hist\n",
    "        \n",
    "        \n",
    "def compute_classification_accuracy(dataset):\n",
    "    \"\"\" Computes classification accuracy on supplied data in batches. \"\"\"\n",
    "    generator = DataLoader(dataset, batch_size=batch_size, shuffle=False, num_workers=2)\n",
    "    accs = []\n",
    "    for x_local, y_local in generator:\n",
    "        x_local, y_local = x_local.to(device), y_local.to(device)\n",
    "        output,_ = run_snn(x_local)\n",
    "        m,_= torch.max(output,1) # max over time\n",
    "        _,am=torch.max(m,1)      # argmax over output units\n",
    "        tmp = np.mean((y_local==am).detach().cpu().numpy()) # compare to labels\n",
    "        accs.append(tmp)\n",
    "    return np.mean(accs)"
   ]
  },
  {
   "cell_type": "code",
   "execution_count": 14,
   "metadata": {},
   "outputs": [],
   "source": [
    "nb_epochs = 1000"
   ]
  },
  {
   "cell_type": "code",
   "execution_count": null,
   "metadata": {},
   "outputs": [
    {
     "data": {
      "image/png": "[encoded data removed]",
      "text/plain": [
       "<Figure size 450x300 with 1 Axes>"
      ]
     },
     "metadata": {
      "needs_background": "light"
     },
     "output_type": "display_data"
    },
    {
     "name": "stdout",
     "output_type": "stream",
     "text": [
      "Epoch 904: loss=0.06410\n"
     ]
    }
   ],
   "source": [
    "loss_hist = train(ds_train, lr=1e-2, nb_epochs=nb_epochs)"
   ]
  },
  {
   "cell_type": "code",
   "execution_count": null,
   "metadata": {},
   "outputs": [],
   "source": [
    "print(\"Training accuracy: %.3f\"%(compute_classification_accuracy(ds_train)))\n",
    "print(\"Test accuracy: %.3f\"%(compute_classification_accuracy(ds_test)))"
   ]
  },
  {
   "cell_type": "code",
   "execution_count": null,
   "metadata": {},
   "outputs": [],
   "source": [
    "# Let's run the network on a single batch from the test set\n",
    "data_loader = DataLoader(ds_test, batch_size=batch_size, shuffle=False)\n",
    "x_batch, y_batch = next(iter(data_loader))\n",
    "output, other_recordings = run_snn(x_batch.to(device))\n",
    "enc_rec, mem_rec, spk_rec = other_recordings"
   ]
  },
  {
   "cell_type": "code",
   "execution_count": null,
   "metadata": {},
   "outputs": [],
   "source": [
    "# This is how our spiking encoders convert the current based input into spike trains (we plot 20)\n",
    "\n",
    "fig=plt.figure(dpi=150,figsize=(7,3))\n",
    "plot_voltage_traces(enc_rec[:,:,:20], color=\"black\", alpha=0.2)"
   ]
  },
  {
   "cell_type": "code",
   "execution_count": null,
   "metadata": {},
   "outputs": [],
   "source": [
    "# Let's take a look at the readout layer activity \n",
    "\n",
    "fig=plt.figure(dpi=150,figsize=(7,3))\n",
    "plot_voltage_traces(output)"
   ]
  },
  {
   "cell_type": "code",
   "execution_count": null,
   "metadata": {},
   "outputs": [],
   "source": [
    "# Let's plot the hiddden layer spiking activity for some input stimuli\n",
    "\n",
    "nb_plt = 4\n",
    "gs = GridSpec(1,nb_plt)\n",
    "fig= plt.figure(figsize=(7,3),dpi=150)\n",
    "for i in range(nb_plt):\n",
    "    plt.subplot(gs[i])\n",
    "    plt.imshow(spk_rec[i].detach().cpu().numpy().T,cmap=plt.cm.gray_r, origin=\"lower\" )\n",
    "    if i==0:\n",
    "        plt.xlabel(\"Time\")\n",
    "        plt.ylabel(\"Units\")\n",
    "\n",
    "    sns.despine()"
   ]
  },
  {
   "cell_type": "markdown",
   "metadata": {},
   "source": [
    "<a rel=\"license\" href=\"http://creativecommons.org/licenses/by/4.0/\"><img alt=\"Creative Commons License\" style=\"border-width:0\" src=\"https://i.creativecommons.org/l/by/4.0/88x31.png\" /></a><br />This work is licensed under a <a rel=\"license\" href=\"http://creativecommons.org/licenses/by/4.0/\">Creative Commons Attribution 4.0 International License</a>."
   ]
  },
  {
   "cell_type": "code",
   "execution_count": null,
   "metadata": {},
   "outputs": [],
   "source": []
  },
  {
   "cell_type": "code",
   "execution_count": null,
   "metadata": {},
   "outputs": [],
   "source": []
  },
  {
   "cell_type": "code",
   "execution_count": null,
   "metadata": {},
   "outputs": [],
   "source": []
  },
  {
   "cell_type": "code",
   "execution_count": null,
   "metadata": {},
   "outputs": [],
   "source": []
  },
  {
   "cell_type": "code",
   "execution_count": null,
   "metadata": {},
   "outputs": [],
   "source": []
  }
 ],
 "metadata": {
  "kernelspec": {
   "display_name": "Python 3",
   "language": "python",
   "name": "python3"
  },
  "language_info": {
   "codemirror_mode": {
    "name": "ipython",
    "version": 3
   },
   "file_extension": ".py",
   "mimetype": "text/x-python",
   "name": "python",
   "nbconvert_exporter": "python",
   "pygments_lexer": "ipython3",
   "version": "3.6.9"
  }
 },
 "nbformat": 4,
 "nbformat_minor": 4
}
